{
  "nbformat": 4,
  "nbformat_minor": 0,
  "metadata": {
    "colab": {
      "provenance": []
    },
    "kernelspec": {
      "name": "python3",
      "display_name": "Python 3"
    },
    "language_info": {
      "name": "python"
    }
  },
  "cells": [
    {
      "cell_type": "code",
      "execution_count": 1,
      "metadata": {
        "colab": {
          "base_uri": "https://localhost:8080/"
        },
        "id": "wlKvdCRZeIUj",
        "outputId": "87fbeba7-7193-443e-f7bd-f6fd5f2e9128"
      },
      "outputs": [
        {
          "output_type": "stream",
          "name": "stdout",
          "text": [
            "movie/A_1000000000000000_Ransom-4926482\n",
            "movie/A_2nd_Chance-2150139\n",
            "movie/A_Aa-5684466\n",
            "movie/A_Babysitters_Guide_to_Monster_Hunting-4844150\n",
            "movie/A_Bad_Son-81678\n",
            "movie/A_Bag_of_Marbles-153414\n",
            "movie/A_Balloon_for_Allah-1880111\n",
            "movie/A_Banana_At_This_Time_of_Night-9010228\n",
            "movie/A_Banquet-11400902\n",
            "movie/A_Barefoot_Dream-1583213\n",
            "movie/A_Bear_Named_Winnie-437088\n",
            "movie/A_Beautiful_Curse-12593190\n",
            "movie/A_Beautiful_Day_in_the_Neighborhood-3224458\n",
            "movie/A_Beautiful_Mind-268978\n",
            "movie/A_Beautiful_Now-2611160\n",
            "movie/A_Beautiful_Place_to_Die_A_Marthas_Vineyard_Mystery-10768536\n",
            "movie/A_Beautiful_Planet-2800050\n",
            "movie/A_Beautiful_Secret-316562\n",
            "movie/A_Bee_in_August-970946\n",
            "movie/A_Belfast_Story-2326204\n",
            "movie/A_Belle_for_Christmas-3256812\n",
            "movie/A_Beloved_Wife-11288650\n",
            "movie/A_Bennett_Song_Holiday-8552834\n",
            "movie/A_Better_Tomorrow-92263\n",
            "movie/A_Better_Tomorrow_II-94357\n",
            "movie/A_Better_Tomorrow_III_Love_and_Death_in_Saigon-98691\n",
            "movie/A_Better_Way_to_Die-168504\n",
            "movie/A_Big_Love_Story-1769383\n",
            "movie/A_Bigger_Splash-2056771\n",
            "movie/A_Birders_Guide_to_Everything-1582465\n"
          ]
        }
      ],
      "source": [
        "from bs4 import BeautifulSoup\n",
        "import requests\n",
        "\n",
        "root = 'https://subslikescript.com'\n",
        "website = f'{root}/movies_letter-A'\n",
        "result = requests.get(website)\n",
        "content = result.text\n",
        "soup = BeautifulSoup(content,'lxml')\n",
        "\n",
        "pagination = soup.find('ul', class_='pagination')\n",
        "pages = pagination.find_all('li', class_='page-item')\n",
        "last_page = pages[-2].text\n",
        "\n",
        "links = []\n",
        "\n",
        "for page in range(1, int(last_page)+1)[:1]:\n",
        "    result = requests.get(f'{website}?page={page}')\n",
        "    content = result.text\n",
        "    soup = BeautifulSoup(content,'lxml')\n",
        "\n",
        "    box = soup.find('article', class_='main-article')\n",
        "\n",
        "    for link in box.find_all('a', href=True):\n",
        "      links.append(link['href'])\n",
        "\n",
        "    for link in links:\n",
        "      try:\n",
        "        print(link)\n",
        "        result = requests.get(f'{root}/{link}')\n",
        "        content = result.text\n",
        "        soup = BeautifulSoup(content,'lxml')\n",
        "\n",
        "        box = soup.find('article', class_='main-article')\n",
        "\n",
        "        title = box.find('h1').get_text()\n",
        "        transcript = box.find('div',class_='full-script').get_text(strip = True, separator = ' ')\n",
        "\n",
        "        with open(f'{title}.txt','w') as file:\n",
        "          file.write(transcript)\n",
        "      except:\n",
        "          print('------link not working------')\n",
        "          print(link)"
      ]
    }
  ]
}